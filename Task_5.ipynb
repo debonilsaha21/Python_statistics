{
 "cells": [
  {
   "cell_type": "markdown",
   "metadata": {},
   "source": [
    "Task 5: Inferential Statistics – Hypothesis Testing: Test whether there is a significant\n",
    "difference in the average Engine power [KM] of vehicles manufactured by two leading\n",
    "manufacturers i.e. Tesla and Audi. What insights can you draw from the test results?\n",
    "Recommendations and Conclusion: Provide actionable insights based on your analysis.\n",
    "(Conduct a two sample t-test using ttest_ind from scipy.stats module) (16 Marks)"
   ]
  },
  {
   "cell_type": "code",
   "execution_count": 1,
   "metadata": {},
   "outputs": [],
   "source": [
    "import pandas as pd\n",
    "import numpy as np"
   ]
  },
  {
   "cell_type": "code",
   "execution_count": 2,
   "metadata": {},
   "outputs": [],
   "source": [
    "import scipy.stats as stats"
   ]
  },
  {
   "cell_type": "code",
   "execution_count": 3,
   "metadata": {},
   "outputs": [
    {
     "data": {
      "text/html": [
       "<div>\n",
       "<style scoped>\n",
       "    .dataframe tbody tr th:only-of-type {\n",
       "        vertical-align: middle;\n",
       "    }\n",
       "\n",
       "    .dataframe tbody tr th {\n",
       "        vertical-align: top;\n",
       "    }\n",
       "\n",
       "    .dataframe thead th {\n",
       "        text-align: right;\n",
       "    }\n",
       "</style>\n",
       "<table border=\"1\" class=\"dataframe\">\n",
       "  <thead>\n",
       "    <tr style=\"text-align: right;\">\n",
       "      <th></th>\n",
       "      <th>Car full name</th>\n",
       "      <th>Make</th>\n",
       "      <th>Model</th>\n",
       "      <th>Minimal price (gross) [PLN]</th>\n",
       "      <th>Engine power [KM]</th>\n",
       "      <th>Maximum torque [Nm]</th>\n",
       "      <th>Type of brakes</th>\n",
       "      <th>Drive type</th>\n",
       "      <th>Battery capacity [kWh]</th>\n",
       "      <th>Range (WLTP) [km]</th>\n",
       "      <th>...</th>\n",
       "      <th>Permissable gross weight [kg]</th>\n",
       "      <th>Maximum load capacity [kg]</th>\n",
       "      <th>Number of seats</th>\n",
       "      <th>Number of doors</th>\n",
       "      <th>Tire size [in]</th>\n",
       "      <th>Maximum speed [kph]</th>\n",
       "      <th>Boot capacity (VDA) [l]</th>\n",
       "      <th>Acceleration 0-100 kph [s]</th>\n",
       "      <th>Maximum DC charging power [kW]</th>\n",
       "      <th>mean - Energy consumption [kWh/100 km]</th>\n",
       "    </tr>\n",
       "  </thead>\n",
       "  <tbody>\n",
       "    <tr>\n",
       "      <th>0</th>\n",
       "      <td>Audi e-tron 55 quattro</td>\n",
       "      <td>Audi</td>\n",
       "      <td>e-tron 55 quattro</td>\n",
       "      <td>345700</td>\n",
       "      <td>360</td>\n",
       "      <td>664</td>\n",
       "      <td>disc (front + rear)</td>\n",
       "      <td>4WD</td>\n",
       "      <td>95.0</td>\n",
       "      <td>438</td>\n",
       "      <td>...</td>\n",
       "      <td>3130.0</td>\n",
       "      <td>640.0</td>\n",
       "      <td>5</td>\n",
       "      <td>5</td>\n",
       "      <td>19</td>\n",
       "      <td>200</td>\n",
       "      <td>660.0</td>\n",
       "      <td>5.7</td>\n",
       "      <td>150</td>\n",
       "      <td>24.45</td>\n",
       "    </tr>\n",
       "    <tr>\n",
       "      <th>1</th>\n",
       "      <td>Audi e-tron 50 quattro</td>\n",
       "      <td>Audi</td>\n",
       "      <td>e-tron 50 quattro</td>\n",
       "      <td>308400</td>\n",
       "      <td>313</td>\n",
       "      <td>540</td>\n",
       "      <td>disc (front + rear)</td>\n",
       "      <td>4WD</td>\n",
       "      <td>71.0</td>\n",
       "      <td>340</td>\n",
       "      <td>...</td>\n",
       "      <td>3040.0</td>\n",
       "      <td>670.0</td>\n",
       "      <td>5</td>\n",
       "      <td>5</td>\n",
       "      <td>19</td>\n",
       "      <td>190</td>\n",
       "      <td>660.0</td>\n",
       "      <td>6.8</td>\n",
       "      <td>150</td>\n",
       "      <td>23.80</td>\n",
       "    </tr>\n",
       "    <tr>\n",
       "      <th>2</th>\n",
       "      <td>Audi e-tron S quattro</td>\n",
       "      <td>Audi</td>\n",
       "      <td>e-tron S quattro</td>\n",
       "      <td>414900</td>\n",
       "      <td>503</td>\n",
       "      <td>973</td>\n",
       "      <td>disc (front + rear)</td>\n",
       "      <td>4WD</td>\n",
       "      <td>95.0</td>\n",
       "      <td>364</td>\n",
       "      <td>...</td>\n",
       "      <td>3130.0</td>\n",
       "      <td>565.0</td>\n",
       "      <td>5</td>\n",
       "      <td>5</td>\n",
       "      <td>20</td>\n",
       "      <td>210</td>\n",
       "      <td>660.0</td>\n",
       "      <td>4.5</td>\n",
       "      <td>150</td>\n",
       "      <td>27.55</td>\n",
       "    </tr>\n",
       "    <tr>\n",
       "      <th>3</th>\n",
       "      <td>Audi e-tron Sportback 50 quattro</td>\n",
       "      <td>Audi</td>\n",
       "      <td>e-tron Sportback 50 quattro</td>\n",
       "      <td>319700</td>\n",
       "      <td>313</td>\n",
       "      <td>540</td>\n",
       "      <td>disc (front + rear)</td>\n",
       "      <td>4WD</td>\n",
       "      <td>71.0</td>\n",
       "      <td>346</td>\n",
       "      <td>...</td>\n",
       "      <td>3040.0</td>\n",
       "      <td>640.0</td>\n",
       "      <td>5</td>\n",
       "      <td>5</td>\n",
       "      <td>19</td>\n",
       "      <td>190</td>\n",
       "      <td>615.0</td>\n",
       "      <td>6.8</td>\n",
       "      <td>150</td>\n",
       "      <td>23.30</td>\n",
       "    </tr>\n",
       "    <tr>\n",
       "      <th>4</th>\n",
       "      <td>Audi e-tron Sportback 55 quattro</td>\n",
       "      <td>Audi</td>\n",
       "      <td>e-tron Sportback 55 quattro</td>\n",
       "      <td>357000</td>\n",
       "      <td>360</td>\n",
       "      <td>664</td>\n",
       "      <td>disc (front + rear)</td>\n",
       "      <td>4WD</td>\n",
       "      <td>95.0</td>\n",
       "      <td>447</td>\n",
       "      <td>...</td>\n",
       "      <td>3130.0</td>\n",
       "      <td>670.0</td>\n",
       "      <td>5</td>\n",
       "      <td>5</td>\n",
       "      <td>19</td>\n",
       "      <td>200</td>\n",
       "      <td>615.0</td>\n",
       "      <td>5.7</td>\n",
       "      <td>150</td>\n",
       "      <td>23.85</td>\n",
       "    </tr>\n",
       "  </tbody>\n",
       "</table>\n",
       "<p>5 rows × 25 columns</p>\n",
       "</div>"
      ],
      "text/plain": [
       "                      Car full name  Make                        Model  \\\n",
       "0            Audi e-tron 55 quattro  Audi            e-tron 55 quattro   \n",
       "1            Audi e-tron 50 quattro  Audi            e-tron 50 quattro   \n",
       "2             Audi e-tron S quattro  Audi             e-tron S quattro   \n",
       "3  Audi e-tron Sportback 50 quattro  Audi  e-tron Sportback 50 quattro   \n",
       "4  Audi e-tron Sportback 55 quattro  Audi  e-tron Sportback 55 quattro   \n",
       "\n",
       "   Minimal price (gross) [PLN]  Engine power [KM]  Maximum torque [Nm]  \\\n",
       "0                       345700                360                  664   \n",
       "1                       308400                313                  540   \n",
       "2                       414900                503                  973   \n",
       "3                       319700                313                  540   \n",
       "4                       357000                360                  664   \n",
       "\n",
       "        Type of brakes Drive type  Battery capacity [kWh]  Range (WLTP) [km]  \\\n",
       "0  disc (front + rear)        4WD                    95.0                438   \n",
       "1  disc (front + rear)        4WD                    71.0                340   \n",
       "2  disc (front + rear)        4WD                    95.0                364   \n",
       "3  disc (front + rear)        4WD                    71.0                346   \n",
       "4  disc (front + rear)        4WD                    95.0                447   \n",
       "\n",
       "   ...  Permissable gross weight [kg]  Maximum load capacity [kg]  \\\n",
       "0  ...                         3130.0                       640.0   \n",
       "1  ...                         3040.0                       670.0   \n",
       "2  ...                         3130.0                       565.0   \n",
       "3  ...                         3040.0                       640.0   \n",
       "4  ...                         3130.0                       670.0   \n",
       "\n",
       "   Number of seats  Number of doors  Tire size [in]  Maximum speed [kph]  \\\n",
       "0                5                5              19                  200   \n",
       "1                5                5              19                  190   \n",
       "2                5                5              20                  210   \n",
       "3                5                5              19                  190   \n",
       "4                5                5              19                  200   \n",
       "\n",
       "   Boot capacity (VDA) [l]  Acceleration 0-100 kph [s]  \\\n",
       "0                    660.0                         5.7   \n",
       "1                    660.0                         6.8   \n",
       "2                    660.0                         4.5   \n",
       "3                    615.0                         6.8   \n",
       "4                    615.0                         5.7   \n",
       "\n",
       "   Maximum DC charging power [kW]  mean - Energy consumption [kWh/100 km]  \n",
       "0                             150                                   24.45  \n",
       "1                             150                                   23.80  \n",
       "2                             150                                   27.55  \n",
       "3                             150                                   23.30  \n",
       "4                             150                                   23.85  \n",
       "\n",
       "[5 rows x 25 columns]"
      ]
     },
     "execution_count": 3,
     "metadata": {},
     "output_type": "execute_result"
    }
   ],
   "source": [
    "data = pd.read_csv(\"FEV-data-Excel.xlsx - Auta elektryczne.csv\")\n",
    "data.head(5)"
   ]
  },
  {
   "cell_type": "code",
   "execution_count": 4,
   "metadata": {},
   "outputs": [],
   "source": [
    "ev_data = data.copy()   "
   ]
  },
  {
   "cell_type": "markdown",
   "metadata": {},
   "source": [
    "T-Test\n",
    "\n",
    "The sample size is less than 30.\n",
    "alpha = 0.05 (considering)\n",
    "Null Hypothesis (H0): There is no significant difference in the mean engine power of Tesla and Audi vehicles.\n",
    "Alternate Hypothesis (H1): There is a significant difference in the mean engine power of Tesla and Audi vehicles."
   ]
  },
  {
   "cell_type": "code",
   "execution_count": 5,
   "metadata": {},
   "outputs": [
    {
     "name": "stdout",
     "output_type": "stream",
     "text": [
      "[360 313 503 313 360 503] [285 372 480 525 772 525 772]\n",
      "392.0 533.0\n",
      "(6,) (7,)\n"
     ]
    }
   ],
   "source": [
    "audi_array = np.array(ev_data[ev_data['Make']=='Audi']['Engine power [KM]'])\n",
    "tesla_array = np.array(ev_data[ev_data['Make']=='Tesla']['Engine power [KM]'])\n",
    "print(audi_array, tesla_array)\n",
    "print(audi_array.mean(), tesla_array.mean())\n",
    "print(audi_array.shape, tesla_array.shape)\n"
   ]
  },
  {
   "cell_type": "markdown",
   "metadata": {},
   "source": [
    "Conducting a t-test to compare the mean of car makers tesla and audi for Engine power [km]\n"
   ]
  },
  {
   "cell_type": "code",
   "execution_count": 6,
   "metadata": {},
   "outputs": [
    {
     "name": "stdout",
     "output_type": "stream",
     "text": [
      "t-statistic =1.794, p-value =0.1068\n",
      "dof = 11\n"
     ]
    }
   ],
   "source": [
    "t_statistic, p_value = stats.ttest_ind(tesla_array, audi_array,equal_var= False)\n",
    "print(f\"t-statistic ={round(t_statistic,4)}, p-value ={round(p_value,4)}\")\n",
    "degree_of_Freedom = len(audi_array)+len(tesla_array)-2\n",
    "print(f\"dof = {degree_of_Freedom}\")"
   ]
  },
  {
   "cell_type": "code",
   "execution_count": 7,
   "metadata": {},
   "outputs": [
    {
     "name": "stdout",
     "output_type": "stream",
     "text": [
      "Result: \n",
      "We cannnot reject the null hypothesis as there is not significant difference between the mean of the car makers\n"
     ]
    }
   ],
   "source": [
    "alpha = 0.05\n",
    "if p_value < alpha:\n",
    "    print(\"We can reject the null hypothesis since there is significant difference between the mean of audi and tesla\")\n",
    "else:\n",
    "    print(f\"Result: \\nWe cannnot reject the null hypothesis as there is not significant difference between the mean of the car makers\")"
   ]
  },
  {
   "cell_type": "code",
   "execution_count": null,
   "metadata": {},
   "outputs": [],
   "source": []
  }
 ],
 "metadata": {
  "kernelspec": {
   "display_name": "Python 3 (ipykernel)",
   "language": "python",
   "name": "python3"
  },
  "language_info": {
   "codemirror_mode": {
    "name": "ipython",
    "version": 3
   },
   "file_extension": ".py",
   "mimetype": "text/x-python",
   "name": "python",
   "nbconvert_exporter": "python",
   "pygments_lexer": "ipython3",
   "version": "3.12.7"
  }
 },
 "nbformat": 4,
 "nbformat_minor": 4
}
